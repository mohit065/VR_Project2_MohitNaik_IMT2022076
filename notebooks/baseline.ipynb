{
 "cells": [
  {
   "cell_type": "code",
   "execution_count": null,
   "id": "a03e7bcc",
   "metadata": {},
   "outputs": [],
   "source": [
    "import os\n",
    "import csv\n",
    "import torch\n",
    "import pandas as pd\n",
    "from PIL import Image\n",
    "from tqdm import tqdm\n",
    "from transformers import BlipProcessor, BlipForQuestionAnswering\n",
    "\n",
    "VQA_CSV     = \"../data/vqa.csv\"\n",
    "CURATED_DIR = \"../data/curated_images\"\n",
    "PRED_CSV    = \"../data/predictions.csv\"\n",
    "\n",
    "SEED        = 7\n",
    "SAMPLE_SIZE = 10000\n",
    "DEVICE      = \"cuda\" if torch.cuda.is_available() else \"cpu\"\n",
    "\n",
    "df_sample = pd.read_csv(VQA_CSV).sample(n=SAMPLE_SIZE, random_state=SEED).reset_index(drop=True)\n",
    "\n",
    "processor = BlipProcessor.from_pretrained(\"Salesforce/blip-vqa-base\")\n",
    "model = BlipForQuestionAnswering.from_pretrained(\"Salesforce/blip-vqa-base\").to(DEVICE).eval()\n",
    "\n",
    "with open(PRED_CSV, mode=\"w\", newline=\"\", encoding=\"utf-8\") as f:\n",
    "    writer = csv.writer(f)\n",
    "    writer.writerow([\"filename\", \"question\", \"answer\", \"prediction\"])\n",
    "\n",
    "    for _, row in tqdm(df_sample.iterrows(), total=len(df_sample), desc=\"VQA Inference\"):\n",
    "        filename, question, answer = row[\"filename\"], row[\"question\"], row[\"answer\"]\n",
    "        img_path = os.path.join(CURATED_DIR, filename)\n",
    "        try:\n",
    "            img = Image.open(img_path).convert(\"RGB\")\n",
    "            inputs = processor(images=img, text=question, return_tensors=\"pt\").to(DEVICE)\n",
    "            with torch.no_grad():\n",
    "                out_ids = model.generate(**inputs, max_new_tokens=5)\n",
    "            prediction = processor.decode(out_ids[0], skip_special_tokens=True).strip().lower()\n",
    "        except:\n",
    "            prediction = \"\"\n",
    "        writer.writerow([filename, question, answer, prediction])"
   ]
  }
 ],
 "metadata": {
  "kernelspec": {
   "display_name": "vrenv",
   "language": "python",
   "name": "python3"
  },
  "language_info": {
   "codemirror_mode": {
    "name": "ipython",
    "version": 3
   },
   "file_extension": ".py",
   "mimetype": "text/x-python",
   "name": "python",
   "nbconvert_exporter": "python",
   "pygments_lexer": "ipython3",
   "version": "3.10.16"
  }
 },
 "nbformat": 4,
 "nbformat_minor": 5
}
