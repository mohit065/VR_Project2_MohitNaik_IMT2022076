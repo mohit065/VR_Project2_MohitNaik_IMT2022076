{
 "cells": [
  {
   "cell_type": "code",
   "execution_count": null,
   "id": "894bee93",
   "metadata": {},
   "outputs": [],
   "source": [
    "import Levenshtein\n",
    "import pandas as pd\n",
    "from statistics import mean\n",
    "from bert_score import score as bert_score\n",
    "from nltk.translate.meteor_score import single_meteor_score\n",
    "\n",
    "# PRED_CSV = '../data/csvs/preds_blip_ft.csv' # Change this to evaluate various model predictions\n",
    "PRED_CSV = '../input/vrdata/data/csvs/preds_blip_ft.csv' # for kaggle\n",
    "\n",
    "def load_data(filepath):\n",
    "    df = pd.read_csv(filepath, dtype=str)\n",
    "    df = df.fillna('')\n",
    "    return df\n",
    "\n",
    "def compute_metrics(df):\n",
    "    # Exact match accuracy\n",
    "    exacts = (df['answer'].str.strip() == df['prediction'].str.strip()).astype(float)\n",
    "    exact_acc = exacts.mean()\n",
    "\n",
    "    # Substring match accuracy\n",
    "    subs = df.apply(\n",
    "        lambda row: (row['prediction'].strip() in row['answer'].strip()) or\n",
    "                    (row['answer'].strip() in row['prediction'].strip()), axis=1\n",
    "    ).astype(float)\n",
    "    sub_acc = subs.mean()\n",
    "\n",
    "    # Levenshtein similarity\n",
    "    levs = [Levenshtein.ratio(a, p) for a, p in zip(df['answer'], df['prediction'])]\n",
    "    lev_mean = mean(levs)\n",
    "\n",
    "    # Meteor score\n",
    "    meteors = [single_meteor_score(a.split(), p.split()) for a, p in zip(df['answer'], df['prediction'])]\n",
    "    meteor_mean = mean(meteors)\n",
    "\n",
    "    # BERTScore F1\n",
    "    _, _, F = bert_score(df['prediction'].tolist(), df['answer'].tolist(), lang='en', rescale_with_baseline=True)\n",
    "    bert_f1 = F.mean().item()\n",
    "\n",
    "    return {\n",
    "        'EXACT MATCH': exact_acc,\n",
    "        'SUBSTRING MATCH': sub_acc,\n",
    "        'BERT F1': bert_f1,\n",
    "        'LEVENSHTEIN': lev_mean,\n",
    "        'METEOR': meteor_mean\n",
    "    }\n",
    "\n",
    "df = load_data(PRED_CSV)\n",
    "metrics = compute_metrics(df)\n",
    "for name, value in metrics.items():\n",
    "    print(f\"{name}: {value:.4f}\")"
   ]
  }
 ],
 "metadata": {
  "kernelspec": {
   "display_name": "vrenv",
   "language": "python",
   "name": "python3"
  },
  "language_info": {
   "codemirror_mode": {
    "name": "ipython",
    "version": 3
   },
   "file_extension": ".py",
   "mimetype": "text/x-python",
   "name": "python",
   "nbconvert_exporter": "python",
   "pygments_lexer": "ipython3",
   "version": "3.10.16"
  }
 },
 "nbformat": 4,
 "nbformat_minor": 5
}
