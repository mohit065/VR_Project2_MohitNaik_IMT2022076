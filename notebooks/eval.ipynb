{
 "cells": [
  {
   "cell_type": "code",
   "execution_count": null,
   "id": "894bee93",
   "metadata": {},
   "outputs": [],
   "source": [
    "import logging\n",
    "import Levenshtein\n",
    "import pandas as pd\n",
    "from statistics import mean\n",
    "from bert_score import score as bert_score\n",
    "from nltk.translate.meteor_score import single_meteor_score\n",
    "\n",
    "logging.getLogger(\"transformers.modeling_utils\").setLevel(logging.ERROR)\n",
    "\n",
    "# PRED_CSV = '../data/csvs/preds_blip_ft.csv' # Change this to evaluate various model predictions\n",
    "PRED_CSV = '../input/vrdata/data/csvs/preds_blip_ft.csv' # for kaggle\n",
    "\n",
    "df = pd.read_csv(PRED_CSV, dtype=str)\n",
    "df = df.fillna('')\n",
    "\n",
    "# Exact match accuracy\n",
    "print(\"Computing Exact Match Accuracy...\")\n",
    "exacts = (df['answer'].str.strip() == df['prediction'].str.strip()).astype(float)\n",
    "exact_acc = exacts.mean()\n",
    "print(f\"EXACT ACCURACY : {exact_acc:.4f}\\n\")\n",
    "\n",
    "# Substring match accuracy\n",
    "print(\"Computing Substring Match Accuracy...\")\n",
    "subs = df.apply(\n",
    "    lambda row: (row['prediction'].strip() in row['answer'].strip()) or\n",
    "    (row['answer'].strip() in row['prediction'].strip()), axis=1\n",
    ").astype(float)\n",
    "sub_acc = subs.mean()\n",
    "print(f\"SUBSTRING ACCURACY : {sub_acc:.4f}\\n\")\n",
    "\n",
    "# Levenshtein similarity\n",
    "print(\"Computing Levenshtein Similarity...\")\n",
    "levs = [Levenshtein.ratio(a, p) for a, p in zip(df['answer'], df['prediction'])]\n",
    "lev_mean = mean(levs)\n",
    "print(f\"LEVENSHTEIN SIMILARITY : {lev_mean:.4f}\\n\")\n",
    "\n",
    "# Meteor score\n",
    "print(\"Computing Meteor Score...\")\n",
    "meteors = [single_meteor_score(a.split(), p.split()) for a, p in zip(df['answer'], df['prediction'])]\n",
    "meteor_mean = mean(meteors)\n",
    "print(f\"METEOR SCORE : {meteor_mean:.4f}\\n\")\n",
    "\n",
    "# BERTScore F1\n",
    "print(\"Computing BERTScore F1...\")\n",
    "_, _, F = bert_score(df['prediction'].tolist(), df['answer'].tolist(), lang='en', rescale_with_baseline=True)\n",
    "bert_f1 = F.mean().item()\n",
    "print(f\"BERT F1 : {bert_f1:.4f}\")"
   ]
  }
 ],
 "metadata": {
  "kernelspec": {
   "display_name": "vrenv",
   "language": "python",
   "name": "python3"
  },
  "language_info": {
   "codemirror_mode": {
    "name": "ipython",
    "version": 3
   },
   "file_extension": ".py",
   "mimetype": "text/x-python",
   "name": "python",
   "nbconvert_exporter": "python",
   "pygments_lexer": "ipython3",
   "version": "3.10.16"
  }
 },
 "nbformat": 4,
 "nbformat_minor": 5
}
